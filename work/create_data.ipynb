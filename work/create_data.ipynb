{
 "cells": [
  {
   "cell_type": "code",
   "execution_count": 10,
   "id": "e229fbb8-287c-424f-89f4-9ccb8e076adb",
   "metadata": {},
   "outputs": [],
   "source": [
    "import pandas as pd"
   ]
  },
  {
   "cell_type": "code",
   "execution_count": 11,
   "id": "2686b246-70ac-44a3-a4e7-6ce0af1f2663",
   "metadata": {},
   "outputs": [],
   "source": [
    "import matplotlib.pyplot as plt"
   ]
  },
  {
   "cell_type": "code",
   "execution_count": 13,
   "id": "7a61a91e-5f39-4cee-b624-a6d1486df554",
   "metadata": {},
   "outputs": [],
   "source": [
    "from create_data import create_data"
   ]
  },
  {
   "cell_type": "code",
   "execution_count": 14,
   "id": "ce6ac425-bf64-4620-bab9-aafded731a8f",
   "metadata": {},
   "outputs": [],
   "source": [
    "cr = create_data()"
   ]
  },
  {
   "cell_type": "code",
   "execution_count": 16,
   "id": "8a75730f-5d0e-462d-b687-3e9d46bbe456",
   "metadata": {},
   "outputs": [],
   "source": [
    "tm_df = cr.tmsdata()"
   ]
  },
  {
   "cell_type": "code",
   "execution_count": 20,
   "id": "91a7070a-8c4d-4981-b5e6-da250a0691a6",
   "metadata": {},
   "outputs": [
    {
     "name": "stdout",
     "output_type": "stream",
     "text": [
      "         date channel campaign    segment   device   region  impressions  \\\n",
      "0  2024-01-01   Email     EM-6        New  Desktop    Daegu         1128   \n",
      "1  2024-01-01   Email     EM-4  Returning   Mobile    Seoul         1069   \n",
      "2  2024-01-01     SMS     SM-5        New   Mobile  Incheon         1032   \n",
      "\n",
      "   clicks  cost  conversions  revenue       ctr       cvr       cpc       cac  \\\n",
      "0     103  3.38            3   163.94  0.091312  0.029126  0.032816  1.126667   \n",
      "1      86  3.21            2    86.08  0.080449  0.023256  0.037326  1.605000   \n",
      "2      94  3.10            6   262.18  0.091085  0.063830  0.032979  0.516667   \n",
      "\n",
      "        roas  \n",
      "0  48.502959  \n",
      "1  26.816199  \n",
      "2  84.574194  \n",
      "<class 'pandas.core.frame.DataFrame'>\n",
      "RangeIndex: 1820 entries, 0 to 1819\n",
      "Data columns (total 16 columns):\n",
      " #   Column       Non-Null Count  Dtype  \n",
      "---  ------       --------------  -----  \n",
      " 0   date         1820 non-null   object \n",
      " 1   channel      1820 non-null   object \n",
      " 2   campaign     1820 non-null   object \n",
      " 3   segment      1820 non-null   object \n",
      " 4   device       1820 non-null   object \n",
      " 5   region       1820 non-null   object \n",
      " 6   impressions  1820 non-null   int64  \n",
      " 7   clicks       1820 non-null   int64  \n",
      " 8   cost         1820 non-null   float64\n",
      " 9   conversions  1820 non-null   int64  \n",
      " 10  revenue      1820 non-null   float64\n",
      " 11  ctr          1820 non-null   float64\n",
      " 12  cvr          1820 non-null   float64\n",
      " 13  cpc          1820 non-null   float64\n",
      " 14  cac          1820 non-null   float64\n",
      " 15  roas         1820 non-null   float64\n",
      "dtypes: float64(7), int64(3), object(6)\n",
      "memory usage: 227.6+ KB\n",
      "            revenue    cost   margin\n",
      "date                                \n",
      "2024-01-01  3127.19  257.13  2870.06\n",
      "2024-01-02  4028.37  265.73  3762.64\n",
      "2024-01-03  3680.75  267.66  3413.09\n"
     ]
    }
   ],
   "source": [
    "df = cr.tmsdata()\n",
    "print(df.head(3))\n",
    "df.info()\n",
    "daily = df.groupby('date').agg({'revenue': 'sum', 'cost': 'sum'})\n",
    "daily['margin'] = daily['revenue'] - daily['cost']\n",
    "print(daily.head(3))\n",
    "daily['rev_ma7'] = daily['margin'].rolling(7).mean();"
   ]
  },
  {
   "cell_type": "code",
   "execution_count": null,
   "id": "99708cec-b8b5-4906-b199-3990489d78bd",
   "metadata": {},
   "outputs": [],
   "source": [
    "plt.figure()\n"
   ]
  }
 ],
 "metadata": {
  "kernelspec": {
   "display_name": "Python 3 (ipykernel)",
   "language": "python",
   "name": "python3"
  },
  "language_info": {
   "codemirror_mode": {
    "name": "ipython",
    "version": 3
   },
   "file_extension": ".py",
   "mimetype": "text/x-python",
   "name": "python",
   "nbconvert_exporter": "python",
   "pygments_lexer": "ipython3",
   "version": "3.11.6"
  }
 },
 "nbformat": 4,
 "nbformat_minor": 5
}
